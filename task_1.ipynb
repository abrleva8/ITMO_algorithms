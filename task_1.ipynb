{
 "cells": [
  {
   "metadata": {
    "ExecuteTime": {
     "end_time": "2024-10-02T19:37:39.326297Z",
     "start_time": "2024-10-02T19:37:39.323476Z"
    }
   },
   "cell_type": "code",
   "source": "import random",
   "id": "d1f480bbfabdb9aa",
   "outputs": [],
   "execution_count": 2
  },
  {
   "metadata": {
    "ExecuteTime": {
     "end_time": "2024-10-02T20:55:34.552Z",
     "start_time": "2024-10-02T20:55:34.549694Z"
    }
   },
   "cell_type": "code",
   "source": "random.seed(42)",
   "id": "405b3d05f09011b",
   "outputs": [],
   "execution_count": 56
  },
  {
   "metadata": {},
   "cell_type": "markdown",
   "source": "First I create some function for convenience",
   "id": "f6e805f51debf170"
  },
  {
   "metadata": {
    "ExecuteTime": {
     "end_time": "2024-10-02T21:40:48.348623Z",
     "start_time": "2024-10-02T21:40:48.339560Z"
    }
   },
   "cell_type": "code",
   "source": [
    "def constant_function(x: int = 42) -> int:\n",
    "    return x\n",
    "\n",
    "\n",
    "def generate_random_list(size: int, start=1, finish=100) -> list[int]:\n",
    "    if finish < start:\n",
    "        raise ValueError(\"Finish value should be more than start\")\n",
    "    return [finish//2 - random.randint(start, finish) for _ in range(size)]\n",
    "\n",
    "\n",
    "# we create self-own function instead using sum python function because built-in function may be more efficiency and\n",
    "# it may have a negative effect on the experiment\n",
    "def sum_of_list(v: list[int]) -> int:\n",
    "    result = 0\n",
    "    for elem in v:\n",
    "        result += elem\n",
    "    return result\n",
    "\n",
    "\n",
    "def prod_of_list(v: list[int]) -> int:\n",
    "    result = 1\n",
    "    for elem in v:\n",
    "        result *= elem\n",
    "    return result\n",
    "\n",
    "\n",
    "def polynom_sum(v: list[int], value: float = 1.5) -> float:\n",
    "    result: float = 0\n",
    "    current_value: float = 1\n",
    "    for i in range(len(v)):\n",
    "        result += v[i] * current_value\n",
    "        current_value *= value\n",
    "    return result\n",
    "\n",
    "def polynom_sum_horner(v: list[int], value: float = 1.5) -> float:\n",
    "    result: float = v[-1]\n",
    "    for i in reversed(range(len(v) - 1)):\n",
    "        result = result * value + v[i]\n",
    "    return result\n",
    "\n",
    "\n",
    "def bubble_sort(v: list[int]) -> list[int]:\n",
    "    n = len(v)\n",
    "    for i in range(n - 1):\n",
    "        for j in range(0, n - i - 1):\n",
    "            if v[j] > v[j + 1]:\n",
    "                v[j], v[j + 1] = v[j + 1], v[j]\n",
    "    return v\n",
    "\n",
    "\n",
    "def quick_sort(v: list[int]) -> list[int]:\n",
    "    if len(v) <= 1:\n",
    "        return v\n",
    "    else:\n",
    "        pivot = v[0]\n",
    "        left = [x for x in v[1:] if x < pivot]\n",
    "        right = [x for x in v[1:] if x >= pivot]\n",
    "        return quick_sort(left) + [pivot] + quick_sort(right)\n",
    "\n",
    "\n",
    "def tim_sort(v: list[int]) -> list[int]:\n",
    "    arr = v.copy()\n",
    "    def insertion_sort(arr: list[int], left: int = 0, right:int = None):\n",
    "        if right is None:\n",
    "            right = len(arr) - 1\n",
    "        for i in range(left + 1, right + 1):\n",
    "            key_item = arr[i]\n",
    "            j = i - 1\n",
    "            while j >= left and arr[j] > key_item:\n",
    "                arr[j + 1] = arr[j]\n",
    "                j -= 1\n",
    "            arr[j + 1] = key_item\n",
    "        return arr\n",
    "    \n",
    "    def merge(left: list[int], right: list[int]) -> list[int]:\n",
    "        if not left:\n",
    "            return right\n",
    "    \n",
    "        if not right:\n",
    "            return left\n",
    "    \n",
    "        if left[0] < right[0]:\n",
    "            return [left[0]] + merge(left[1:], right)\n",
    "    \n",
    "        return [right[0]] + merge(left, right[1:])\n",
    "    \n",
    "    \n",
    "    min_run = 32\n",
    "    n = len(arr)\n",
    "\n",
    "    for i in range(0, n, min_run):\n",
    "        insertion_sort(arr, i, min((i + min_run - 1), (n - 1)))\n",
    "\n",
    "    size = min_run\n",
    "    while size < n:\n",
    "        for start in range(0, n, size * 2):\n",
    "            midpoint = start + size\n",
    "            end = min((start + size * 2 - 1), (n - 1))\n",
    "            merged_array = merge(arr[start:midpoint],\n",
    "                                 arr[midpoint:end + 1])\n",
    "            arr[start:start + len(merged_array)] = merged_array\n",
    "\n",
    "        size *= 2\n",
    "\n",
    "    return arr"
   ],
   "id": "ebe6d998fd5d5076",
   "outputs": [],
   "execution_count": 95
  },
  {
   "metadata": {
    "ExecuteTime": {
     "end_time": "2024-10-02T21:40:48.882305Z",
     "start_time": "2024-10-02T21:40:48.878257Z"
    }
   },
   "cell_type": "code",
   "source": [
    "v = generate_random_list(4)\n",
    "total = sum_of_list(v)\n",
    "prod = prod_of_list(v)\n",
    "p_sum = polynom_sum(v)\n",
    "p_sum_horner = polynom_sum_horner(v)\n",
    "sorted_list_bubble = bubble_sort(v)\n",
    "sorted_list_quick = quick_sort(v)\n",
    "sorted_list_tim = tim_sort(v)\n",
    "print(f'sourced list is: {v}')\n",
    "print(f'sum(v) = {total}')\n",
    "print(f'prod(y) = {prod}')\n",
    "print(p_sum)\n",
    "print(p_sum_horner)\n",
    "print(sorted_list_bubble)\n",
    "print(sorted_list_quick)\n",
    "print(sorted_list_tim)"
   ],
   "id": "7849776e6eedf625",
   "outputs": [
    {
     "name": "stdout",
     "output_type": "stream",
     "text": [
      "sourced list is: [-10, 1, 15, 29]\n",
      "sum(v) = 35\n",
      "prod(y) = -4350\n",
      "66.875\n",
      "66.875\n",
      "[-10, 1, 15, 29]\n",
      "[-10, 1, 15, 29]\n",
      "[-10, 1, 15, 29]\n"
     ]
    }
   ],
   "execution_count": 96
  },
  {
   "metadata": {
    "ExecuteTime": {
     "end_time": "2024-10-02T21:08:52.400721Z",
     "start_time": "2024-10-02T21:08:52.395664Z"
    }
   },
   "cell_type": "code",
   "source": "sum_of_list(v)",
   "id": "4418f91e20ae559c",
   "outputs": [
    {
     "data": {
      "text/plain": [
       "16"
      ]
     },
     "execution_count": 74,
     "metadata": {},
     "output_type": "execute_result"
    }
   ],
   "execution_count": 74
  },
  {
   "metadata": {},
   "cell_type": "code",
   "outputs": [],
   "execution_count": null,
   "source": "",
   "id": "8fb049b704377f6f"
  }
 ],
 "metadata": {
  "kernelspec": {
   "display_name": "Python 3",
   "language": "python",
   "name": "python3"
  },
  "language_info": {
   "codemirror_mode": {
    "name": "ipython",
    "version": 2
   },
   "file_extension": ".py",
   "mimetype": "text/x-python",
   "name": "python",
   "nbconvert_exporter": "python",
   "pygments_lexer": "ipython2",
   "version": "2.7.6"
  }
 },
 "nbformat": 4,
 "nbformat_minor": 5
}
